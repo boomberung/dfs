{
  "nbformat": 4,
  "nbformat_minor": 0,
  "metadata": {
    "colab": {
      "name": "Eval.ipynb",
      "version": "0.3.2",
      "provenance": [],
      "collapsed_sections": []
    },
    "kernelspec": {
      "name": "python3",
      "display_name": "Python 3"
    }
  },
  "cells": [
    {
      "metadata": {
        "id": "4Sd4l5B9NuvY",
        "colab_type": "code",
        "colab": {}
      },
      "cell_type": "code",
      "source": [
        "import pandas as pd\n",
        "import numpy as np\n",
        "from sklearn import linear_model\n",
        "from sklearn.model_selection import train_test_split\n",
        "from sklearn.metrics import accuracy_score\n",
        "from sklearn.ensemble import RandomForestClassifier\n",
        "from sklearn.datasets import make_classification\n",
        "from sklearn.metrics import roc_auc_score"
      ],
      "execution_count": 0,
      "outputs": []
    },
    {
      "metadata": {
        "id": "mfG1cUvLMQhw",
        "colab_type": "code",
        "colab": {}
      },
      "cell_type": "code",
      "source": [
        "features = []\n",
        "with open(\"features.txt\", \"r\") as file:\n",
        "  for line in file:\n",
        "    features.append(line.strip())"
      ],
      "execution_count": 0,
      "outputs": []
    },
    {
      "metadata": {
        "id": "NGKbw8dWNaHu",
        "colab_type": "code",
        "colab": {}
      },
      "cell_type": "code",
      "source": [
        "data = pd.read_csv(\"train.csv\")\n",
        "y = data.y\n",
        "X = data.drop(columns=['y'], axis=1)"
      ],
      "execution_count": 0,
      "outputs": []
    },
    {
      "metadata": {
        "id": "59FhQzNeOLEM",
        "colab_type": "code",
        "colab": {}
      },
      "cell_type": "code",
      "source": [
        "trX, teX, trY, teY = train_test_split(X, y, test_size=0.33, random_state=42)"
      ],
      "execution_count": 0,
      "outputs": []
    },
    {
      "metadata": {
        "id": "n5iGczAHX6Ob",
        "colab_type": "text"
      },
      "cell_type": "markdown",
      "source": [
        "Ниже работа алгоритмов на полном множестве фич."
      ]
    },
    {
      "metadata": {
        "id": "0qk1GcQZNxff",
        "colab_type": "code",
        "colab": {
          "base_uri": "https://localhost:8080/",
          "height": 51
        },
        "outputId": "9b1f58bf-01d8-4b57-f2a9-3fe1173c16fc"
      },
      "cell_type": "code",
      "source": [
        "clf = linear_model.SGDClassifier(max_iter=10000)\n",
        "clf.fit(trX, trY)\n",
        "Y_pred = clf.predict(teX)\n",
        "print(\"Accuracy: \", accuracy_score(teY,Y_pred))\n",
        "print(\"ROC AUC: \", roc_auc_score(teY,Y_pred))"
      ],
      "execution_count": 34,
      "outputs": [
        {
          "output_type": "stream",
          "text": [
            "Accuracy:  0.7917808219178082\n",
            "ROC AUC:  0.7083849348000291\n"
          ],
          "name": "stdout"
        }
      ]
    },
    {
      "metadata": {
        "id": "4fzxv1F3V6s8",
        "colab_type": "code",
        "colab": {
          "base_uri": "https://localhost:8080/",
          "height": 51
        },
        "outputId": "ecd8b4aa-5704-464d-ce5b-3aeab54090a3"
      },
      "cell_type": "code",
      "source": [
        "clf = RandomForestClassifier()\n",
        "clf.fit(trX, trY)\n",
        "Y_pred = clf.predict(teX)\n",
        "print(\"Accuracy: \", accuracy_score(teY,Y_pred))\n",
        "print(\"ROC AUC: \", roc_auc_score(teY,Y_pred))"
      ],
      "execution_count": 13,
      "outputs": [
        {
          "output_type": "stream",
          "text": [
            "Accuracy:  0.8328767123287671\n",
            "ROC AUC:  0.798645006192176\n"
          ],
          "name": "stdout"
        }
      ]
    },
    {
      "metadata": {
        "id": "vd10TkFuW4es",
        "colab_type": "text"
      },
      "cell_type": "markdown",
      "source": [
        "Ниже создается подмножество фич из n лучших по метрике dfs."
      ]
    },
    {
      "metadata": {
        "id": "SE7eEHTUPnx-",
        "colab_type": "code",
        "colab": {
          "base_uri": "https://localhost:8080/",
          "height": 34
        },
        "outputId": "c9a6f459-777a-4b88-aba0-e9a138688ccf"
      },
      "cell_type": "code",
      "source": [
        "dfs_columns = []\n",
        "n = 50\n",
        "for i in range(n):\n",
        "  dfs_columns.append(features[i])\n",
        "len(dfs_columns)"
      ],
      "execution_count": 29,
      "outputs": [
        {
          "output_type": "execute_result",
          "data": {
            "text/plain": [
              "50"
            ]
          },
          "metadata": {
            "tags": []
          },
          "execution_count": 29
        }
      ]
    },
    {
      "metadata": {
        "id": "7QO_SpsMQBre",
        "colab_type": "code",
        "colab": {
          "base_uri": "https://localhost:8080/",
          "height": 34
        },
        "outputId": "fdbd62b2-da32-4a55-fd3c-db9bec1a1e77"
      },
      "cell_type": "code",
      "source": [
        "X_dfs = X.loc[:, X.columns.isin(dfs_columns)]\n",
        "X_dfs.shape"
      ],
      "execution_count": 30,
      "outputs": [
        {
          "output_type": "execute_result",
          "data": {
            "text/plain": [
              "(1105, 50)"
            ]
          },
          "metadata": {
            "tags": []
          },
          "execution_count": 30
        }
      ]
    },
    {
      "metadata": {
        "id": "PHmTpbrASHqu",
        "colab_type": "code",
        "colab": {}
      },
      "cell_type": "code",
      "source": [
        "trX_dfs, teX_dfs, trY_dfs, teY_dfs = train_test_split(X_dfs, y, test_size=0.33, random_state=42)"
      ],
      "execution_count": 0,
      "outputs": []
    },
    {
      "metadata": {
        "id": "S2GgDczbXxff",
        "colab_type": "text"
      },
      "cell_type": "markdown",
      "source": [
        "Ниже работа алгоритмов на подмножестве фич."
      ]
    },
    {
      "metadata": {
        "id": "ols_7auLR_wR",
        "colab_type": "code",
        "colab": {
          "base_uri": "https://localhost:8080/",
          "height": 51
        },
        "outputId": "8c6c60c8-e140-4415-aacc-24ba11e76bf1"
      },
      "cell_type": "code",
      "source": [
        "clf = linear_model.SGDClassifier(max_iter=10000)\n",
        "clf.fit(trX_dfs, trY_dfs)\n",
        "Y_pred = clf.predict(teX_dfs)\n",
        "print(\"Accuracy: \", accuracy_score(teY_dfs,Y_pred))\n",
        "print(\"ROC AUC: \", roc_auc_score(teY_dfs,Y_pred))"
      ],
      "execution_count": 32,
      "outputs": [
        {
          "output_type": "stream",
          "text": [
            "Accuracy:  0.7945205479452054\n",
            "ROC AUC:  0.7521126247541341\n"
          ],
          "name": "stdout"
        }
      ]
    },
    {
      "metadata": {
        "id": "VN0a_cbYVL-5",
        "colab_type": "code",
        "colab": {
          "base_uri": "https://localhost:8080/",
          "height": 51
        },
        "outputId": "5f5cc2f2-6de4-4ba6-8a32-cf5e6c3e2df9"
      },
      "cell_type": "code",
      "source": [
        "clf = RandomForestClassifier()\n",
        "clf.fit(trX_dfs, trY_dfs)\n",
        "Y_pred = clf.predict(teX_dfs)\n",
        "print(\"Accuracy: \", accuracy_score(teY_dfs,Y_pred))\n",
        "print(\"ROC AUC: \", roc_auc_score(teY_dfs,Y_pred))"
      ],
      "execution_count": 33,
      "outputs": [
        {
          "output_type": "stream",
          "text": [
            "Accuracy:  0.7972602739726027\n",
            "ROC AUC:  0.7540431266846361\n"
          ],
          "name": "stdout"
        }
      ]
    }
  ]
}